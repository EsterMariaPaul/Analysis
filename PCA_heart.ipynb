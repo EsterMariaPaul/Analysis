{
  "nbformat": 4,
  "nbformat_minor": 0,
  "metadata": {
    "colab": {
      "provenance": [],
      "authorship_tag": "ABX9TyND5Kr8IeslcCGVDAFYt30W",
      "include_colab_link": true
    },
    "kernelspec": {
      "name": "python3",
      "display_name": "Python 3"
    },
    "language_info": {
      "name": "python"
    }
  },
  "cells": [
    {
      "cell_type": "markdown",
      "metadata": {
        "id": "view-in-github",
        "colab_type": "text"
      },
      "source": [
        "<a href=\"https://colab.research.google.com/github/EsterMariaPaul/Analysis/blob/main/PCA_heart.ipynb\" target=\"_parent\"><img src=\"https://colab.research.google.com/assets/colab-badge.svg\" alt=\"Open In Colab\"/></a>"
      ]
    },
    {
      "cell_type": "code",
      "execution_count": null,
      "metadata": {
        "id": "po-eAX115nra"
      },
      "outputs": [],
      "source": [
        "import pandas as pd\n",
        "import numpy as np\n",
        "import time\n",
        "import matplotlib.pyplot as plt\n",
        "from sklearn.decomposition import PCA\n",
        "from sklearn.preprocessing import StandardScaler\n",
        "from sklearn.model_selection import train_test_split\n",
        "from sklearn.linear_model import LogisticRegression\n",
        "from sklearn.metrics import accuracy_score, precision_score,recall_score,f1_score"
      ]
    },
    {
      "cell_type": "code",
      "source": [
        "#load dataset\n",
        "file_path = \"/content/heart.csv\"\n",
        "df = pd.read_csv(file_path)\n",
        "\n",
        "#separte target variable\n",
        "if 'target' in df.columns:\n",
        "    target = df['target']\n",
        "    df = df.drop(columns=['target'])\n",
        "else:\n",
        "    raise ValueError(\"Target variable 'target' not found in the dataset.\")"
      ],
      "metadata": {
        "id": "AtAO3LVH7eap"
      },
      "execution_count": null,
      "outputs": []
    },
    {
      "cell_type": "code",
      "source": [
        "#standardize the dataset\n",
        "scaler = StandardScaler()\n",
        "df_scaled = scaler.fit_transform(df)"
      ],
      "metadata": {
        "id": "16EDh_wB8PMW"
      },
      "execution_count": null,
      "outputs": []
    },
    {
      "cell_type": "code",
      "source": [
        "#split dataset before PCA\n",
        "X_train, X_test, y_train, y_test = train_test_split(df_scaled, target, test_size=0.2, random_state=42)"
      ],
      "metadata": {
        "id": "JDif-nBK8bF9"
      },
      "execution_count": null,
      "outputs": []
    },
    {
      "cell_type": "code",
      "source": [
        "#baseline classification (before PCA)\n",
        "start_time = time.time()\n",
        "model = LogisticRegression()\n",
        "model.fit(X_train, y_train)\n",
        "y_pred = model.predict(X_test)\n"
      ],
      "metadata": {
        "id": "RVz589I686J1"
      },
      "execution_count": null,
      "outputs": []
    },
    {
      "cell_type": "code",
      "source": [
        "#compute metrics before PCA\n",
        "baseline_metrics = {\n",
        "    \"Accuracy\": accuracy_score(y_test, y_pred),\n",
        "    \"Precision\": precision_score(y_test, y_pred),\n",
        "    \"Recall\": recall_score(y_test, y_pred),\n",
        "    \"F1-Score\": f1_score(y_test, y_pred),\n",
        "    \"Time Taken\": time.time() - start_time\n",
        "}\n"
      ],
      "metadata": {
        "id": "jdT4Qepl9JI5"
      },
      "execution_count": null,
      "outputs": []
    },
    {
      "cell_type": "code",
      "source": [
        "#apply PCA\n",
        "pca = PCA(n_components=0.95) #keep 95% variance\n",
        "X_pca= pca.fit_transform(df_scaled)"
      ],
      "metadata": {
        "id": "6JFLJrkV_wLF"
      },
      "execution_count": null,
      "outputs": []
    },
    {
      "cell_type": "code",
      "source": [
        "#split dataset after PCA\n",
        "X_train_pca, X_test_pca, y_train_pca, y_test_pca = train_test_split(X_pca, target, test_size=0.2, random_state=42)"
      ],
      "metadata": {
        "id": "uP8OxU1QAJPU"
      },
      "execution_count": null,
      "outputs": []
    },
    {
      "cell_type": "code",
      "source": [
        "#classification after PCA\n",
        "start_time = time.time()\n",
        "model_pca = LogisticRegression()\n",
        "model_pca.fit(X_train_pca, y_train_pca)\n",
        "y_pred_pca = model_pca.predict(X_test_pca)"
      ],
      "metadata": {
        "id": "ODTSeZZlATxL"
      },
      "execution_count": null,
      "outputs": []
    },
    {
      "cell_type": "code",
      "source": [
        "#compute metrics after PCA\n",
        "pca_metrics = {\n",
        "    \"Accuracy\": accuracy_score(y_test_pca, y_pred_pca),\n",
        "    \"Precision\": precision_score(y_test_pca, y_pred_pca),\n",
        "    \"Recall\": recall_score(y_test_pca, y_pred_pca),\n",
        "    \"F1-Score\": f1_score(y_test_pca, y_pred_pca),\n",
        "    \"Time Taken\": time.time() - start_time\n",
        "}"
      ],
      "metadata": {
        "id": "tzRURZsxAgzA"
      },
      "execution_count": null,
      "outputs": []
    },
    {
      "cell_type": "code",
      "source": [
        "#save results to CSV\n",
        "metrics_df = pd.DataFrame([baseline_metrics, pca_metrics],index=[\"Baseline\",\"PCA\"])\n",
        "metrics_df.to_csv(\"classification_metrics.csv\", index=False)"
      ],
      "metadata": {
        "id": "HoNcPcz9-gNp"
      },
      "execution_count": null,
      "outputs": []
    },
    {
      "cell_type": "code",
      "source": [
        "#print results\n",
        "print(\"\\nPERformance Metrics(Before and After PCA):\\n\")\n",
        "print(metrics_df)\n",
        "\n",
        "#plot comparison\n",
        "metrics_df.drop(columns=[\"Time Taken\"]).plot(kind=\"bar\", figsize=(8,5), rot=0)\n",
        "plt.title(\"Performance Comparison:Before vs After PCA\")\n",
        "plt.ylabel(\"Score\")\n",
        "plt.legend(loc=\"lower right\")\n",
        "plt.grid(axis=\"y\", linestyle=\"--\", alpha=0.7)\n",
        "plt.show()"
      ],
      "metadata": {
        "colab": {
          "base_uri": "https://localhost:8080/",
          "height": 572
        },
        "id": "szPHkjD_-LO1",
        "outputId": "a58491a0-4ea4-43f1-c435-dd66e688077c"
      },
      "execution_count": null,
      "outputs": [
        {
          "output_type": "stream",
          "name": "stdout",
          "text": [
            "\n",
            "PERformance Metrics(Before and After PCA):\n",
            "\n",
            "          Accuracy  Precision    Recall  F1-Score  Time Taken\n",
            "Baseline  0.795122   0.756303  0.873786  0.810811   49.069794\n",
            "PCA       0.800000   0.767241  0.864078  0.812785   82.142009\n"
          ]
        },
        {
          "output_type": "display_data",
          "data": {
            "text/plain": [
              "<Figure size 800x500 with 1 Axes>"
            ],
            "image/png": "[encoded data removed]"
          },
          "metadata": {}
        }
      ]
    }
  ]
}